{
 "cells": [
  {
   "cell_type": "code",
   "execution_count": 1,
   "metadata": {},
   "outputs": [],
   "source": [
    "import json"
   ]
  },
  {
   "cell_type": "code",
   "execution_count": 2,
   "metadata": {},
   "outputs": [],
   "source": [
    "# params\n",
    "fj_url = \"localhost:8000\" #local\n",
    "#fj_url = \"flapjack.rudge-lab.org:8000\" #Web Instance Rudge Lab\n",
    "#fj_url = \"198.59.83.73:8000\" #Web Instance Genetic Logic Lab\n",
    "fj_user = \"Gonza10V\"\n",
    "fj_pass = \"010101\"\n",
    "sbh_url = \"https://synbiohub.colorado.edu\"\n",
    "sbh_user = \"Gonza10V\"\n",
    "sbh_pass = \"010101\"\n",
    "sbh_collec = \"xdc_sbs_test_uploader_file\"\n",
    "\n",
    "homespace = 'https://sbolstandard.org'\n",
    "\n",
    "fj_overwrite = False\n",
    "sbh_overwrite=False\n",
    "\n",
    "# add all the previous params to a dictionary\n",
    "params = {\n",
    "    'fj_url': \"localhost:8000\",\n",
    "    'fj_user': \"Gonza10V\",\n",
    "    'fj_pass': \"010101\",\n",
    "    'sbh_url': \"https://synbiohub.colorado.edu\",\n",
    "    'sbh_user': \"Gonza10V\",\n",
    "    'sbh_pass': \"010101\",\n",
    "    'sbh_collec': \"xdc_sbs_test_uploader_file\",\n",
    "    'fj_overwrite': False,\n",
    "    'sbh_overwrite': False\n",
    "}\n",
    "\n",
    "#create a json file using the params dictionary\n",
    "with open(\"xdc_params.json\", \"w\") as xdc_params:\n",
    "    # Dump the dictionary to the file in JSON format\n",
    "    json.dump(params, xdc_params)\n"
   ]
  },
  {
   "cell_type": "code",
   "execution_count": null,
   "metadata": {},
   "outputs": [],
   "source": []
  }
 ],
 "metadata": {
  "kernelspec": {
   "display_name": "GLLDB",
   "language": "python",
   "name": "python3"
  },
  "language_info": {
   "codemirror_mode": {
    "name": "ipython",
    "version": 3
   },
   "file_extension": ".py",
   "mimetype": "text/x-python",
   "name": "python",
   "nbconvert_exporter": "python",
   "pygments_lexer": "ipython3",
   "version": "3.9.19"
  }
 },
 "nbformat": 4,
 "nbformat_minor": 2
}
